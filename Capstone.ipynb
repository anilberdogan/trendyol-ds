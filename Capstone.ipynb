{
 "cells": [
  {
   "cell_type": "markdown",
   "id": "381d2a15",
   "metadata": {},
   "source": [
    "# Trendyol Data Science Bootcamp Capstone Project"
   ]
  },
  {
   "cell_type": "markdown",
   "id": "2d8915fb",
   "metadata": {},
   "source": [
    "Importing libraries"
   ]
  },
  {
   "cell_type": "code",
   "execution_count": 1,
   "id": "0579532a",
   "metadata": {},
   "outputs": [],
   "source": [
    "import numpy as np\n",
    "import pandas as pd\n",
    "from tqdm import trange"
   ]
  },
  {
   "cell_type": "markdown",
   "id": "45d4d124",
   "metadata": {},
   "source": [
    "Reading Datasets to Dataframes"
   ]
  },
  {
   "cell_type": "code",
   "execution_count": 2,
   "id": "acbf29bb",
   "metadata": {},
   "outputs": [],
   "source": [
    "df_cust = pd.read_csv(\"/Users/anil_/customers.csv.gz\", compression=\"gzip\")"
   ]
  },
  {
   "cell_type": "code",
   "execution_count": 4,
   "id": "8ec5e057",
   "metadata": {},
   "outputs": [
    {
     "name": "stdout",
     "output_type": "stream",
     "text": [
      " Volume in drive C has no label.\n",
      " Volume Serial Number is FA19-5F03\n",
      "\n",
      " Directory of C:\\Users\\anil_\n",
      "\n",
      "18.04.2022  00:07    <DIR>          .\n",
      "18.04.2022  00:07    <DIR>          ..\n",
      "06.02.2022  21:13               490 .bash_history\n",
      "03.11.2021  00:29    <DIR>          .cache\n",
      "27.12.2021  19:41    <DIR>          .conda\n",
      "01.11.2021  14:23                25 .condarc\n",
      "01.11.2021  14:22    <DIR>          .continuum\n",
      "03.11.2021  00:29    <DIR>          .eclipse\n",
      "17.04.2022  23:21    <DIR>          .ipynb_checkpoints\n",
      "01.11.2021  14:24    <DIR>          .ipython\n",
      "22.12.2021  22:10    <DIR>          .jupyter\n",
      "19.12.2021  23:06    <DIR>          .keras\n",
      "08.12.2021  14:20    <DIR>          .matplotlib\n",
      "20.03.2022  22:48    <DIR>          .p2\n",
      "15.03.2022  15:15    <DIR>          .streamlit\n",
      "03.04.2022  13:52    <DIR>          __pycache__\n",
      "25.08.2021  15:38    <DIR>          3D Objects\n",
      "18.04.2022  00:07            11.529 anil.ipynb\n",
      "25.08.2021  17:27    <DIR>          ansel\n",
      "18.04.2022  00:02         4.352.791 articles.csv.gz\n",
      "03.04.2022  13:50             2.273 collob.py\n",
      "25.08.2021  15:38    <DIR>          Contacts\n",
      "18.04.2022  00:02        53.720.682 customers.csv.gz\n",
      "27.08.2021  12:00    <DIR>          Documents\n",
      "17.04.2022  23:47    <DIR>          Downloads\n",
      "03.11.2021  00:23    <DIR>          eclipse\n",
      "20.03.2022  22:50    <DIR>          eclipse-workspace\n",
      "25.08.2021  15:38    <DIR>          Favorites\n",
      "15.12.2021  14:25    <DIR>          Finger-Counter-using-Hand-Tracking-And-Open-cv\n",
      "24.02.2022  08:31           154.894 framp.csv\n",
      "24.02.2022  08:31            15.979 gnyned.csv\n",
      "02.04.2022  13:44       620.474.664 goodreads_reviews_spoiler.json.gz\n",
      "24.02.2022  08:31           103.121 gwoomed.csv\n",
      "24.02.2022  08:31           228.264 hoilled.csv\n",
      "25.08.2021  16:22    <DIR>          Intel\n",
      "25.08.2021  15:38    <DIR>          Links\n",
      "25.08.2021  16:48    <DIR>          Logs\n",
      "25.08.2021  15:38    <DIR>          Music\n",
      "04.04.2022  23:49       716.193.814 netflix.zip\n",
      "17.04.2022  23:18    <DIR>          OneDrive\n",
      "24.02.2022  08:31           156.358 plent.csv\n",
      "23.03.2022  19:41    <DIR>          PycharmProjects\n",
      "24.02.2022  09:20            11.703 q2.ipynb\n",
      "25.08.2021  15:38    <DIR>          Saved Games\n",
      "19.03.2022  13:59    <DIR>          scikit_learn_data\n",
      "25.08.2021  15:39    <DIR>          Searches\n",
      "24.02.2022  08:31           246.129 throwsh.csv\n",
      "27.01.2022  22:28    <DIR>          Tracing\n",
      "18.04.2022  00:03       595.420.014 transactions.csv.gz\n",
      "24.02.2022  06:58               576 Trendyol Bootcamp.ipynb\n",
      "24.02.2022  08:31           240.036 twerche.csv\n",
      "15.12.2021  13:10            10.999 Untitled.ipynb\n",
      "14.12.2021  15:25             6.823 Untitled1.ipynb\n",
      "24.02.2022  08:18             2.735 Untitled2.ipynb\n",
      "13.03.2022  14:00            18.967 Untitled3.ipynb\n",
      "26.03.2022  14:09             7.254 Untitled4.ipynb\n",
      "03.04.2022  13:52            10.589 Untitled5.ipynb\n",
      "03.04.2022  14:41            12.545 Untitled6.ipynb\n",
      "04.04.2022  23:51            10.395 Untitled7.ipynb\n",
      "05.04.2022  22:19                72 Untitled8.ipynb\n",
      "24.02.2022  08:31            83.734 veeme.csv\n",
      "14.12.2021  14:53                 0 video2.avi\n",
      "17.04.2022  23:18    <DIR>          Videos\n",
      "06.04.2022  02:53            19.593 youDo2.ipynb\n",
      "              30 File(s)  1.991.517.048 bytes\n",
      "              34 Dir(s)  745.611.161.600 bytes free\n"
     ]
    }
   ],
   "source": [
    "ls"
   ]
  },
  {
   "cell_type": "code",
   "execution_count": 3,
   "id": "a56403bb",
   "metadata": {},
   "outputs": [
    {
     "data": {
      "text/html": [
       "<div>\n",
       "<style scoped>\n",
       "    .dataframe tbody tr th:only-of-type {\n",
       "        vertical-align: middle;\n",
       "    }\n",
       "\n",
       "    .dataframe tbody tr th {\n",
       "        vertical-align: top;\n",
       "    }\n",
       "\n",
       "    .dataframe thead th {\n",
       "        text-align: right;\n",
       "    }\n",
       "</style>\n",
       "<table border=\"1\" class=\"dataframe\">\n",
       "  <thead>\n",
       "    <tr style=\"text-align: right;\">\n",
       "      <th></th>\n",
       "      <th>customer_id</th>\n",
       "      <th>club_member_status</th>\n",
       "      <th>fashion_news_frequency</th>\n",
       "      <th>age</th>\n",
       "    </tr>\n",
       "  </thead>\n",
       "  <tbody>\n",
       "    <tr>\n",
       "      <th>0</th>\n",
       "      <td>00000dbacae5abe5e23885899a1fa44253a17956c6d1c3...</td>\n",
       "      <td>ACTIVE</td>\n",
       "      <td>NONE</td>\n",
       "      <td>49.0</td>\n",
       "    </tr>\n",
       "    <tr>\n",
       "      <th>1</th>\n",
       "      <td>0000423b00ade91418cceaf3b26c6af3dd342b51fd051e...</td>\n",
       "      <td>ACTIVE</td>\n",
       "      <td>NONE</td>\n",
       "      <td>25.0</td>\n",
       "    </tr>\n",
       "    <tr>\n",
       "      <th>2</th>\n",
       "      <td>000058a12d5b43e67d225668fa1f8d618c13dc232df0ca...</td>\n",
       "      <td>ACTIVE</td>\n",
       "      <td>NONE</td>\n",
       "      <td>24.0</td>\n",
       "    </tr>\n",
       "    <tr>\n",
       "      <th>3</th>\n",
       "      <td>00005ca1c9ed5f5146b52ac8639a40ca9d57aeff4d1bd2...</td>\n",
       "      <td>ACTIVE</td>\n",
       "      <td>NONE</td>\n",
       "      <td>54.0</td>\n",
       "    </tr>\n",
       "    <tr>\n",
       "      <th>4</th>\n",
       "      <td>00006413d8573cd20ed7128e53b7b13819fe5cfc2d801f...</td>\n",
       "      <td>ACTIVE</td>\n",
       "      <td>Regularly</td>\n",
       "      <td>52.0</td>\n",
       "    </tr>\n",
       "    <tr>\n",
       "      <th>...</th>\n",
       "      <td>...</td>\n",
       "      <td>...</td>\n",
       "      <td>...</td>\n",
       "      <td>...</td>\n",
       "    </tr>\n",
       "    <tr>\n",
       "      <th>1371975</th>\n",
       "      <td>ffffbbf78b6eaac697a8a5dfbfd2bfa8113ee5b403e474...</td>\n",
       "      <td>ACTIVE</td>\n",
       "      <td>NONE</td>\n",
       "      <td>24.0</td>\n",
       "    </tr>\n",
       "    <tr>\n",
       "      <th>1371976</th>\n",
       "      <td>ffffcd5046a6143d29a04fb8c424ce494a76e5cdf4fab5...</td>\n",
       "      <td>ACTIVE</td>\n",
       "      <td>NONE</td>\n",
       "      <td>21.0</td>\n",
       "    </tr>\n",
       "    <tr>\n",
       "      <th>1371977</th>\n",
       "      <td>ffffcf35913a0bee60e8741cb2b4e78b8a98ee5ff2e6a1...</td>\n",
       "      <td>ACTIVE</td>\n",
       "      <td>Regularly</td>\n",
       "      <td>21.0</td>\n",
       "    </tr>\n",
       "    <tr>\n",
       "      <th>1371978</th>\n",
       "      <td>ffffd7744cebcf3aca44ae7049d2a94b87074c3d4ffe38...</td>\n",
       "      <td>ACTIVE</td>\n",
       "      <td>Regularly</td>\n",
       "      <td>18.0</td>\n",
       "    </tr>\n",
       "    <tr>\n",
       "      <th>1371979</th>\n",
       "      <td>ffffd9ac14e89946416d80e791d064701994755c3ab686...</td>\n",
       "      <td>PRE-CREATE</td>\n",
       "      <td>NONE</td>\n",
       "      <td>65.0</td>\n",
       "    </tr>\n",
       "  </tbody>\n",
       "</table>\n",
       "<p>1371980 rows × 4 columns</p>\n",
       "</div>"
      ],
      "text/plain": [
       "                                               customer_id club_member_status  \\\n",
       "0        00000dbacae5abe5e23885899a1fa44253a17956c6d1c3...             ACTIVE   \n",
       "1        0000423b00ade91418cceaf3b26c6af3dd342b51fd051e...             ACTIVE   \n",
       "2        000058a12d5b43e67d225668fa1f8d618c13dc232df0ca...             ACTIVE   \n",
       "3        00005ca1c9ed5f5146b52ac8639a40ca9d57aeff4d1bd2...             ACTIVE   \n",
       "4        00006413d8573cd20ed7128e53b7b13819fe5cfc2d801f...             ACTIVE   \n",
       "...                                                    ...                ...   \n",
       "1371975  ffffbbf78b6eaac697a8a5dfbfd2bfa8113ee5b403e474...             ACTIVE   \n",
       "1371976  ffffcd5046a6143d29a04fb8c424ce494a76e5cdf4fab5...             ACTIVE   \n",
       "1371977  ffffcf35913a0bee60e8741cb2b4e78b8a98ee5ff2e6a1...             ACTIVE   \n",
       "1371978  ffffd7744cebcf3aca44ae7049d2a94b87074c3d4ffe38...             ACTIVE   \n",
       "1371979  ffffd9ac14e89946416d80e791d064701994755c3ab686...         PRE-CREATE   \n",
       "\n",
       "        fashion_news_frequency   age  \n",
       "0                         NONE  49.0  \n",
       "1                         NONE  25.0  \n",
       "2                         NONE  24.0  \n",
       "3                         NONE  54.0  \n",
       "4                    Regularly  52.0  \n",
       "...                        ...   ...  \n",
       "1371975                   NONE  24.0  \n",
       "1371976                   NONE  21.0  \n",
       "1371977              Regularly  21.0  \n",
       "1371978              Regularly  18.0  \n",
       "1371979                   NONE  65.0  \n",
       "\n",
       "[1371980 rows x 4 columns]"
      ]
     },
     "execution_count": 3,
     "metadata": {},
     "output_type": "execute_result"
    }
   ],
   "source": [
    "df_cust"
   ]
  },
  {
   "cell_type": "code",
   "execution_count": 4,
   "id": "abadd7e9",
   "metadata": {},
   "outputs": [],
   "source": [
    "df_artic = pd.read_csv(\"/Users/anil_/articles.csv.gz\", compression=\"gzip\")"
   ]
  },
  {
   "cell_type": "code",
   "execution_count": 5,
   "id": "135ef90d",
   "metadata": {},
   "outputs": [
    {
     "data": {
      "text/html": [
       "<div>\n",
       "<style scoped>\n",
       "    .dataframe tbody tr th:only-of-type {\n",
       "        vertical-align: middle;\n",
       "    }\n",
       "\n",
       "    .dataframe tbody tr th {\n",
       "        vertical-align: top;\n",
       "    }\n",
       "\n",
       "    .dataframe thead th {\n",
       "        text-align: right;\n",
       "    }\n",
       "</style>\n",
       "<table border=\"1\" class=\"dataframe\">\n",
       "  <thead>\n",
       "    <tr style=\"text-align: right;\">\n",
       "      <th></th>\n",
       "      <th>article_id</th>\n",
       "      <th>product_code</th>\n",
       "      <th>prod_name</th>\n",
       "      <th>product_type_no</th>\n",
       "      <th>product_type_name</th>\n",
       "      <th>product_group_name</th>\n",
       "      <th>graphical_appearance_no</th>\n",
       "      <th>graphical_appearance_name</th>\n",
       "      <th>colour_group_code</th>\n",
       "      <th>colour_group_name</th>\n",
       "      <th>...</th>\n",
       "      <th>department_name</th>\n",
       "      <th>index_code</th>\n",
       "      <th>index_name</th>\n",
       "      <th>index_group_no</th>\n",
       "      <th>index_group_name</th>\n",
       "      <th>section_no</th>\n",
       "      <th>section_name</th>\n",
       "      <th>garment_group_no</th>\n",
       "      <th>garment_group_name</th>\n",
       "      <th>detail_desc</th>\n",
       "    </tr>\n",
       "  </thead>\n",
       "  <tbody>\n",
       "    <tr>\n",
       "      <th>0</th>\n",
       "      <td>108775015</td>\n",
       "      <td>108775</td>\n",
       "      <td>Strap top</td>\n",
       "      <td>253</td>\n",
       "      <td>Vest top</td>\n",
       "      <td>Garment Upper body</td>\n",
       "      <td>1010016</td>\n",
       "      <td>Solid</td>\n",
       "      <td>9</td>\n",
       "      <td>Black</td>\n",
       "      <td>...</td>\n",
       "      <td>Jersey Basic</td>\n",
       "      <td>A</td>\n",
       "      <td>Ladieswear</td>\n",
       "      <td>1</td>\n",
       "      <td>Ladieswear</td>\n",
       "      <td>16</td>\n",
       "      <td>Womens Everyday Basics</td>\n",
       "      <td>1002</td>\n",
       "      <td>Jersey Basic</td>\n",
       "      <td>Jersey top with narrow shoulder straps.</td>\n",
       "    </tr>\n",
       "    <tr>\n",
       "      <th>1</th>\n",
       "      <td>108775044</td>\n",
       "      <td>108775</td>\n",
       "      <td>Strap top</td>\n",
       "      <td>253</td>\n",
       "      <td>Vest top</td>\n",
       "      <td>Garment Upper body</td>\n",
       "      <td>1010016</td>\n",
       "      <td>Solid</td>\n",
       "      <td>10</td>\n",
       "      <td>White</td>\n",
       "      <td>...</td>\n",
       "      <td>Jersey Basic</td>\n",
       "      <td>A</td>\n",
       "      <td>Ladieswear</td>\n",
       "      <td>1</td>\n",
       "      <td>Ladieswear</td>\n",
       "      <td>16</td>\n",
       "      <td>Womens Everyday Basics</td>\n",
       "      <td>1002</td>\n",
       "      <td>Jersey Basic</td>\n",
       "      <td>Jersey top with narrow shoulder straps.</td>\n",
       "    </tr>\n",
       "    <tr>\n",
       "      <th>2</th>\n",
       "      <td>108775051</td>\n",
       "      <td>108775</td>\n",
       "      <td>Strap top (1)</td>\n",
       "      <td>253</td>\n",
       "      <td>Vest top</td>\n",
       "      <td>Garment Upper body</td>\n",
       "      <td>1010017</td>\n",
       "      <td>Stripe</td>\n",
       "      <td>11</td>\n",
       "      <td>Off White</td>\n",
       "      <td>...</td>\n",
       "      <td>Jersey Basic</td>\n",
       "      <td>A</td>\n",
       "      <td>Ladieswear</td>\n",
       "      <td>1</td>\n",
       "      <td>Ladieswear</td>\n",
       "      <td>16</td>\n",
       "      <td>Womens Everyday Basics</td>\n",
       "      <td>1002</td>\n",
       "      <td>Jersey Basic</td>\n",
       "      <td>Jersey top with narrow shoulder straps.</td>\n",
       "    </tr>\n",
       "    <tr>\n",
       "      <th>3</th>\n",
       "      <td>110065001</td>\n",
       "      <td>110065</td>\n",
       "      <td>OP T-shirt (Idro)</td>\n",
       "      <td>306</td>\n",
       "      <td>Bra</td>\n",
       "      <td>Underwear</td>\n",
       "      <td>1010016</td>\n",
       "      <td>Solid</td>\n",
       "      <td>9</td>\n",
       "      <td>Black</td>\n",
       "      <td>...</td>\n",
       "      <td>Clean Lingerie</td>\n",
       "      <td>B</td>\n",
       "      <td>Lingeries/Tights</td>\n",
       "      <td>1</td>\n",
       "      <td>Ladieswear</td>\n",
       "      <td>61</td>\n",
       "      <td>Womens Lingerie</td>\n",
       "      <td>1017</td>\n",
       "      <td>Under-, Nightwear</td>\n",
       "      <td>Microfibre T-shirt bra with underwired, moulde...</td>\n",
       "    </tr>\n",
       "    <tr>\n",
       "      <th>4</th>\n",
       "      <td>110065002</td>\n",
       "      <td>110065</td>\n",
       "      <td>OP T-shirt (Idro)</td>\n",
       "      <td>306</td>\n",
       "      <td>Bra</td>\n",
       "      <td>Underwear</td>\n",
       "      <td>1010016</td>\n",
       "      <td>Solid</td>\n",
       "      <td>10</td>\n",
       "      <td>White</td>\n",
       "      <td>...</td>\n",
       "      <td>Clean Lingerie</td>\n",
       "      <td>B</td>\n",
       "      <td>Lingeries/Tights</td>\n",
       "      <td>1</td>\n",
       "      <td>Ladieswear</td>\n",
       "      <td>61</td>\n",
       "      <td>Womens Lingerie</td>\n",
       "      <td>1017</td>\n",
       "      <td>Under-, Nightwear</td>\n",
       "      <td>Microfibre T-shirt bra with underwired, moulde...</td>\n",
       "    </tr>\n",
       "    <tr>\n",
       "      <th>...</th>\n",
       "      <td>...</td>\n",
       "      <td>...</td>\n",
       "      <td>...</td>\n",
       "      <td>...</td>\n",
       "      <td>...</td>\n",
       "      <td>...</td>\n",
       "      <td>...</td>\n",
       "      <td>...</td>\n",
       "      <td>...</td>\n",
       "      <td>...</td>\n",
       "      <td>...</td>\n",
       "      <td>...</td>\n",
       "      <td>...</td>\n",
       "      <td>...</td>\n",
       "      <td>...</td>\n",
       "      <td>...</td>\n",
       "      <td>...</td>\n",
       "      <td>...</td>\n",
       "      <td>...</td>\n",
       "      <td>...</td>\n",
       "      <td>...</td>\n",
       "    </tr>\n",
       "    <tr>\n",
       "      <th>105537</th>\n",
       "      <td>953450001</td>\n",
       "      <td>953450</td>\n",
       "      <td>5pk regular Placement1</td>\n",
       "      <td>302</td>\n",
       "      <td>Socks</td>\n",
       "      <td>Socks &amp; Tights</td>\n",
       "      <td>1010014</td>\n",
       "      <td>Placement print</td>\n",
       "      <td>9</td>\n",
       "      <td>Black</td>\n",
       "      <td>...</td>\n",
       "      <td>Socks Bin</td>\n",
       "      <td>F</td>\n",
       "      <td>Menswear</td>\n",
       "      <td>3</td>\n",
       "      <td>Menswear</td>\n",
       "      <td>26</td>\n",
       "      <td>Men Underwear</td>\n",
       "      <td>1021</td>\n",
       "      <td>Socks and Tights</td>\n",
       "      <td>Socks in a fine-knit cotton blend with a small...</td>\n",
       "    </tr>\n",
       "    <tr>\n",
       "      <th>105538</th>\n",
       "      <td>953763001</td>\n",
       "      <td>953763</td>\n",
       "      <td>SPORT Malaga tank</td>\n",
       "      <td>253</td>\n",
       "      <td>Vest top</td>\n",
       "      <td>Garment Upper body</td>\n",
       "      <td>1010016</td>\n",
       "      <td>Solid</td>\n",
       "      <td>9</td>\n",
       "      <td>Black</td>\n",
       "      <td>...</td>\n",
       "      <td>Jersey</td>\n",
       "      <td>A</td>\n",
       "      <td>Ladieswear</td>\n",
       "      <td>1</td>\n",
       "      <td>Ladieswear</td>\n",
       "      <td>2</td>\n",
       "      <td>H&amp;M+</td>\n",
       "      <td>1005</td>\n",
       "      <td>Jersey Fancy</td>\n",
       "      <td>Loose-fitting sports vest top in ribbed fast-d...</td>\n",
       "    </tr>\n",
       "    <tr>\n",
       "      <th>105539</th>\n",
       "      <td>956217002</td>\n",
       "      <td>956217</td>\n",
       "      <td>Cartwheel dress</td>\n",
       "      <td>265</td>\n",
       "      <td>Dress</td>\n",
       "      <td>Garment Full body</td>\n",
       "      <td>1010016</td>\n",
       "      <td>Solid</td>\n",
       "      <td>9</td>\n",
       "      <td>Black</td>\n",
       "      <td>...</td>\n",
       "      <td>Jersey</td>\n",
       "      <td>A</td>\n",
       "      <td>Ladieswear</td>\n",
       "      <td>1</td>\n",
       "      <td>Ladieswear</td>\n",
       "      <td>18</td>\n",
       "      <td>Womens Trend</td>\n",
       "      <td>1005</td>\n",
       "      <td>Jersey Fancy</td>\n",
       "      <td>Short, A-line dress in jersey with a round nec...</td>\n",
       "    </tr>\n",
       "    <tr>\n",
       "      <th>105540</th>\n",
       "      <td>957375001</td>\n",
       "      <td>957375</td>\n",
       "      <td>CLAIRE HAIR CLAW</td>\n",
       "      <td>72</td>\n",
       "      <td>Hair clip</td>\n",
       "      <td>Accessories</td>\n",
       "      <td>1010016</td>\n",
       "      <td>Solid</td>\n",
       "      <td>9</td>\n",
       "      <td>Black</td>\n",
       "      <td>...</td>\n",
       "      <td>Small Accessories</td>\n",
       "      <td>D</td>\n",
       "      <td>Divided</td>\n",
       "      <td>2</td>\n",
       "      <td>Divided</td>\n",
       "      <td>52</td>\n",
       "      <td>Divided Accessories</td>\n",
       "      <td>1019</td>\n",
       "      <td>Accessories</td>\n",
       "      <td>Large plastic hair claw.</td>\n",
       "    </tr>\n",
       "    <tr>\n",
       "      <th>105541</th>\n",
       "      <td>959461001</td>\n",
       "      <td>959461</td>\n",
       "      <td>Lounge dress</td>\n",
       "      <td>265</td>\n",
       "      <td>Dress</td>\n",
       "      <td>Garment Full body</td>\n",
       "      <td>1010016</td>\n",
       "      <td>Solid</td>\n",
       "      <td>11</td>\n",
       "      <td>Off White</td>\n",
       "      <td>...</td>\n",
       "      <td>Jersey</td>\n",
       "      <td>A</td>\n",
       "      <td>Ladieswear</td>\n",
       "      <td>1</td>\n",
       "      <td>Ladieswear</td>\n",
       "      <td>18</td>\n",
       "      <td>Womens Trend</td>\n",
       "      <td>1005</td>\n",
       "      <td>Jersey Fancy</td>\n",
       "      <td>Calf-length dress in ribbed jersey made from a...</td>\n",
       "    </tr>\n",
       "  </tbody>\n",
       "</table>\n",
       "<p>105542 rows × 25 columns</p>\n",
       "</div>"
      ],
      "text/plain": [
       "        article_id  product_code               prod_name  product_type_no  \\\n",
       "0        108775015        108775               Strap top              253   \n",
       "1        108775044        108775               Strap top              253   \n",
       "2        108775051        108775           Strap top (1)              253   \n",
       "3        110065001        110065       OP T-shirt (Idro)              306   \n",
       "4        110065002        110065       OP T-shirt (Idro)              306   \n",
       "...            ...           ...                     ...              ...   \n",
       "105537   953450001        953450  5pk regular Placement1              302   \n",
       "105538   953763001        953763       SPORT Malaga tank              253   \n",
       "105539   956217002        956217         Cartwheel dress              265   \n",
       "105540   957375001        957375        CLAIRE HAIR CLAW               72   \n",
       "105541   959461001        959461            Lounge dress              265   \n",
       "\n",
       "       product_type_name  product_group_name  graphical_appearance_no  \\\n",
       "0               Vest top  Garment Upper body                  1010016   \n",
       "1               Vest top  Garment Upper body                  1010016   \n",
       "2               Vest top  Garment Upper body                  1010017   \n",
       "3                    Bra           Underwear                  1010016   \n",
       "4                    Bra           Underwear                  1010016   \n",
       "...                  ...                 ...                      ...   \n",
       "105537             Socks      Socks & Tights                  1010014   \n",
       "105538          Vest top  Garment Upper body                  1010016   \n",
       "105539             Dress   Garment Full body                  1010016   \n",
       "105540         Hair clip         Accessories                  1010016   \n",
       "105541             Dress   Garment Full body                  1010016   \n",
       "\n",
       "       graphical_appearance_name  colour_group_code colour_group_name  ...  \\\n",
       "0                          Solid                  9             Black  ...   \n",
       "1                          Solid                 10             White  ...   \n",
       "2                         Stripe                 11         Off White  ...   \n",
       "3                          Solid                  9             Black  ...   \n",
       "4                          Solid                 10             White  ...   \n",
       "...                          ...                ...               ...  ...   \n",
       "105537           Placement print                  9             Black  ...   \n",
       "105538                     Solid                  9             Black  ...   \n",
       "105539                     Solid                  9             Black  ...   \n",
       "105540                     Solid                  9             Black  ...   \n",
       "105541                     Solid                 11         Off White  ...   \n",
       "\n",
       "          department_name index_code        index_name index_group_no  \\\n",
       "0            Jersey Basic          A        Ladieswear              1   \n",
       "1            Jersey Basic          A        Ladieswear              1   \n",
       "2            Jersey Basic          A        Ladieswear              1   \n",
       "3          Clean Lingerie          B  Lingeries/Tights              1   \n",
       "4          Clean Lingerie          B  Lingeries/Tights              1   \n",
       "...                   ...        ...               ...            ...   \n",
       "105537          Socks Bin          F          Menswear              3   \n",
       "105538             Jersey          A        Ladieswear              1   \n",
       "105539             Jersey          A        Ladieswear              1   \n",
       "105540  Small Accessories          D           Divided              2   \n",
       "105541             Jersey          A        Ladieswear              1   \n",
       "\n",
       "        index_group_name section_no            section_name garment_group_no  \\\n",
       "0             Ladieswear         16  Womens Everyday Basics             1002   \n",
       "1             Ladieswear         16  Womens Everyday Basics             1002   \n",
       "2             Ladieswear         16  Womens Everyday Basics             1002   \n",
       "3             Ladieswear         61         Womens Lingerie             1017   \n",
       "4             Ladieswear         61         Womens Lingerie             1017   \n",
       "...                  ...        ...                     ...              ...   \n",
       "105537          Menswear         26           Men Underwear             1021   \n",
       "105538        Ladieswear          2                    H&M+             1005   \n",
       "105539        Ladieswear         18            Womens Trend             1005   \n",
       "105540           Divided         52     Divided Accessories             1019   \n",
       "105541        Ladieswear         18            Womens Trend             1005   \n",
       "\n",
       "        garment_group_name                                        detail_desc  \n",
       "0             Jersey Basic            Jersey top with narrow shoulder straps.  \n",
       "1             Jersey Basic            Jersey top with narrow shoulder straps.  \n",
       "2             Jersey Basic            Jersey top with narrow shoulder straps.  \n",
       "3        Under-, Nightwear  Microfibre T-shirt bra with underwired, moulde...  \n",
       "4        Under-, Nightwear  Microfibre T-shirt bra with underwired, moulde...  \n",
       "...                    ...                                                ...  \n",
       "105537    Socks and Tights  Socks in a fine-knit cotton blend with a small...  \n",
       "105538        Jersey Fancy  Loose-fitting sports vest top in ribbed fast-d...  \n",
       "105539        Jersey Fancy  Short, A-line dress in jersey with a round nec...  \n",
       "105540         Accessories                           Large plastic hair claw.  \n",
       "105541        Jersey Fancy  Calf-length dress in ribbed jersey made from a...  \n",
       "\n",
       "[105542 rows x 25 columns]"
      ]
     },
     "execution_count": 5,
     "metadata": {},
     "output_type": "execute_result"
    }
   ],
   "source": [
    "df_artic"
   ]
  },
  {
   "cell_type": "code",
   "execution_count": 6,
   "id": "85243b7c",
   "metadata": {},
   "outputs": [],
   "source": [
    "df_trans = pd.read_csv(\"/Users/anil_/transactions.csv.gz\", compression=\"gzip\")"
   ]
  },
  {
   "cell_type": "code",
   "execution_count": 7,
   "id": "0ccd51b9",
   "metadata": {
    "scrolled": true
   },
   "outputs": [
    {
     "data": {
      "text/html": [
       "<div>\n",
       "<style scoped>\n",
       "    .dataframe tbody tr th:only-of-type {\n",
       "        vertical-align: middle;\n",
       "    }\n",
       "\n",
       "    .dataframe tbody tr th {\n",
       "        vertical-align: top;\n",
       "    }\n",
       "\n",
       "    .dataframe thead th {\n",
       "        text-align: right;\n",
       "    }\n",
       "</style>\n",
       "<table border=\"1\" class=\"dataframe\">\n",
       "  <thead>\n",
       "    <tr style=\"text-align: right;\">\n",
       "      <th></th>\n",
       "      <th>t_dat</th>\n",
       "      <th>customer_id</th>\n",
       "      <th>article_id</th>\n",
       "      <th>price</th>\n",
       "      <th>sales_channel_id</th>\n",
       "    </tr>\n",
       "  </thead>\n",
       "  <tbody>\n",
       "    <tr>\n",
       "      <th>0</th>\n",
       "      <td>2018-09-20</td>\n",
       "      <td>000058a12d5b43e67d225668fa1f8d618c13dc232df0ca...</td>\n",
       "      <td>663713001</td>\n",
       "      <td>0.050831</td>\n",
       "      <td>2</td>\n",
       "    </tr>\n",
       "    <tr>\n",
       "      <th>1</th>\n",
       "      <td>2018-09-20</td>\n",
       "      <td>000058a12d5b43e67d225668fa1f8d618c13dc232df0ca...</td>\n",
       "      <td>541518023</td>\n",
       "      <td>0.030492</td>\n",
       "      <td>2</td>\n",
       "    </tr>\n",
       "    <tr>\n",
       "      <th>2</th>\n",
       "      <td>2018-09-20</td>\n",
       "      <td>00007d2de826758b65a93dd24ce629ed66842531df6699...</td>\n",
       "      <td>505221004</td>\n",
       "      <td>0.015237</td>\n",
       "      <td>2</td>\n",
       "    </tr>\n",
       "    <tr>\n",
       "      <th>3</th>\n",
       "      <td>2018-09-20</td>\n",
       "      <td>00007d2de826758b65a93dd24ce629ed66842531df6699...</td>\n",
       "      <td>685687003</td>\n",
       "      <td>0.016932</td>\n",
       "      <td>2</td>\n",
       "    </tr>\n",
       "    <tr>\n",
       "      <th>4</th>\n",
       "      <td>2018-09-20</td>\n",
       "      <td>00007d2de826758b65a93dd24ce629ed66842531df6699...</td>\n",
       "      <td>685687004</td>\n",
       "      <td>0.016932</td>\n",
       "      <td>2</td>\n",
       "    </tr>\n",
       "    <tr>\n",
       "      <th>...</th>\n",
       "      <td>...</td>\n",
       "      <td>...</td>\n",
       "      <td>...</td>\n",
       "      <td>...</td>\n",
       "      <td>...</td>\n",
       "    </tr>\n",
       "    <tr>\n",
       "      <th>31788319</th>\n",
       "      <td>2020-09-22</td>\n",
       "      <td>fff2282977442e327b45d8c89afde25617d00124d0f999...</td>\n",
       "      <td>929511001</td>\n",
       "      <td>0.059305</td>\n",
       "      <td>2</td>\n",
       "    </tr>\n",
       "    <tr>\n",
       "      <th>31788320</th>\n",
       "      <td>2020-09-22</td>\n",
       "      <td>fff2282977442e327b45d8c89afde25617d00124d0f999...</td>\n",
       "      <td>891322004</td>\n",
       "      <td>0.042356</td>\n",
       "      <td>2</td>\n",
       "    </tr>\n",
       "    <tr>\n",
       "      <th>31788321</th>\n",
       "      <td>2020-09-22</td>\n",
       "      <td>fff380805474b287b05cb2a7507b9a013482f7dd0bce0e...</td>\n",
       "      <td>918325001</td>\n",
       "      <td>0.043203</td>\n",
       "      <td>1</td>\n",
       "    </tr>\n",
       "    <tr>\n",
       "      <th>31788322</th>\n",
       "      <td>2020-09-22</td>\n",
       "      <td>fff4d3a8b1f3b60af93e78c30a7cb4cf75edaf2590d3e5...</td>\n",
       "      <td>833459002</td>\n",
       "      <td>0.006763</td>\n",
       "      <td>1</td>\n",
       "    </tr>\n",
       "    <tr>\n",
       "      <th>31788323</th>\n",
       "      <td>2020-09-22</td>\n",
       "      <td>fffef3b6b73545df065b521e19f64bf6fe93bfd450ab20...</td>\n",
       "      <td>898573003</td>\n",
       "      <td>0.033881</td>\n",
       "      <td>2</td>\n",
       "    </tr>\n",
       "  </tbody>\n",
       "</table>\n",
       "<p>31788324 rows × 5 columns</p>\n",
       "</div>"
      ],
      "text/plain": [
       "               t_dat                                        customer_id  \\\n",
       "0         2018-09-20  000058a12d5b43e67d225668fa1f8d618c13dc232df0ca...   \n",
       "1         2018-09-20  000058a12d5b43e67d225668fa1f8d618c13dc232df0ca...   \n",
       "2         2018-09-20  00007d2de826758b65a93dd24ce629ed66842531df6699...   \n",
       "3         2018-09-20  00007d2de826758b65a93dd24ce629ed66842531df6699...   \n",
       "4         2018-09-20  00007d2de826758b65a93dd24ce629ed66842531df6699...   \n",
       "...              ...                                                ...   \n",
       "31788319  2020-09-22  fff2282977442e327b45d8c89afde25617d00124d0f999...   \n",
       "31788320  2020-09-22  fff2282977442e327b45d8c89afde25617d00124d0f999...   \n",
       "31788321  2020-09-22  fff380805474b287b05cb2a7507b9a013482f7dd0bce0e...   \n",
       "31788322  2020-09-22  fff4d3a8b1f3b60af93e78c30a7cb4cf75edaf2590d3e5...   \n",
       "31788323  2020-09-22  fffef3b6b73545df065b521e19f64bf6fe93bfd450ab20...   \n",
       "\n",
       "          article_id     price  sales_channel_id  \n",
       "0          663713001  0.050831                 2  \n",
       "1          541518023  0.030492                 2  \n",
       "2          505221004  0.015237                 2  \n",
       "3          685687003  0.016932                 2  \n",
       "4          685687004  0.016932                 2  \n",
       "...              ...       ...               ...  \n",
       "31788319   929511001  0.059305                 2  \n",
       "31788320   891322004  0.042356                 2  \n",
       "31788321   918325001  0.043203                 1  \n",
       "31788322   833459002  0.006763                 1  \n",
       "31788323   898573003  0.033881                 2  \n",
       "\n",
       "[31788324 rows x 5 columns]"
      ]
     },
     "execution_count": 7,
     "metadata": {},
     "output_type": "execute_result"
    }
   ],
   "source": [
    "df_trans"
   ]
  },
  {
   "cell_type": "markdown",
   "id": "bbf44350",
   "metadata": {},
   "source": [
    "Creating article_id_new and customer_id_new columns. I want to use new ids as a index for matrix factorization."
   ]
  },
  {
   "cell_type": "code",
   "execution_count": 8,
   "id": "bb209426",
   "metadata": {},
   "outputs": [
    {
     "data": {
      "text/plain": [
       "0                0\n",
       "1                1\n",
       "2                2\n",
       "3                3\n",
       "4                4\n",
       "             ...  \n",
       "31788319    102734\n",
       "31788320     97490\n",
       "31788321    104185\n",
       "31788322     70100\n",
       "31788323    102985\n",
       "Name: article_id_new, Length: 31788324, dtype: int64"
      ]
     },
     "execution_count": 8,
     "metadata": {},
     "output_type": "execute_result"
    }
   ],
   "source": [
    "article_ids = df_trans['article_id']\n",
    "uniques = article_ids.unique()\n",
    "length = len(uniques)\n",
    "arr = np.array(list(range(length)))\n",
    "dict1 = {uniques[i]:i for i in range(length)}\n",
    "df_trans['article_id_new'] = df_trans['article_id'].apply(lambda x : dict1[x])\n",
    "df_trans['article_id_new']"
   ]
  },
  {
   "cell_type": "code",
   "execution_count": 9,
   "id": "c3730b05",
   "metadata": {},
   "outputs": [
    {
     "data": {
      "text/plain": [
       "0                 0\n",
       "1                 0\n",
       "2                 1\n",
       "3                 1\n",
       "4                 1\n",
       "             ...   \n",
       "31788319     212537\n",
       "31788320     212537\n",
       "31788321    1090369\n",
       "31788322     729233\n",
       "31788323    1025409\n",
       "Name: customer_id_new, Length: 31788324, dtype: int64"
      ]
     },
     "execution_count": 9,
     "metadata": {},
     "output_type": "execute_result"
    }
   ],
   "source": [
    "customer_ids = df_trans['customer_id']\n",
    "unique_customers = customer_ids.unique()\n",
    "len_cus_uniq = len(unique_customers)\n",
    "arr_cus = np.array(list(range(len_cus_uniq)))\n",
    "dict2 = {unique_customers[i]:i for i in range(len_cus_uniq)}\n",
    "df_trans['customer_id_new'] = df_trans['customer_id'].apply(lambda x : dict2[x])\n",
    "df_trans['customer_id_new']"
   ]
  },
  {
   "cell_type": "code",
   "execution_count": 10,
   "id": "a1a4c677",
   "metadata": {},
   "outputs": [
    {
     "data": {
      "text/html": [
       "<div>\n",
       "<style scoped>\n",
       "    .dataframe tbody tr th:only-of-type {\n",
       "        vertical-align: middle;\n",
       "    }\n",
       "\n",
       "    .dataframe tbody tr th {\n",
       "        vertical-align: top;\n",
       "    }\n",
       "\n",
       "    .dataframe thead th {\n",
       "        text-align: right;\n",
       "    }\n",
       "</style>\n",
       "<table border=\"1\" class=\"dataframe\">\n",
       "  <thead>\n",
       "    <tr style=\"text-align: right;\">\n",
       "      <th></th>\n",
       "      <th>t_dat</th>\n",
       "      <th>customer_id</th>\n",
       "      <th>article_id</th>\n",
       "      <th>price</th>\n",
       "      <th>sales_channel_id</th>\n",
       "      <th>article_id_new</th>\n",
       "      <th>customer_id_new</th>\n",
       "    </tr>\n",
       "  </thead>\n",
       "  <tbody>\n",
       "    <tr>\n",
       "      <th>0</th>\n",
       "      <td>2018-09-20</td>\n",
       "      <td>000058a12d5b43e67d225668fa1f8d618c13dc232df0ca...</td>\n",
       "      <td>663713001</td>\n",
       "      <td>0.050831</td>\n",
       "      <td>2</td>\n",
       "      <td>0</td>\n",
       "      <td>0</td>\n",
       "    </tr>\n",
       "    <tr>\n",
       "      <th>1</th>\n",
       "      <td>2018-09-20</td>\n",
       "      <td>000058a12d5b43e67d225668fa1f8d618c13dc232df0ca...</td>\n",
       "      <td>541518023</td>\n",
       "      <td>0.030492</td>\n",
       "      <td>2</td>\n",
       "      <td>1</td>\n",
       "      <td>0</td>\n",
       "    </tr>\n",
       "    <tr>\n",
       "      <th>2</th>\n",
       "      <td>2018-09-20</td>\n",
       "      <td>00007d2de826758b65a93dd24ce629ed66842531df6699...</td>\n",
       "      <td>505221004</td>\n",
       "      <td>0.015237</td>\n",
       "      <td>2</td>\n",
       "      <td>2</td>\n",
       "      <td>1</td>\n",
       "    </tr>\n",
       "    <tr>\n",
       "      <th>3</th>\n",
       "      <td>2018-09-20</td>\n",
       "      <td>00007d2de826758b65a93dd24ce629ed66842531df6699...</td>\n",
       "      <td>685687003</td>\n",
       "      <td>0.016932</td>\n",
       "      <td>2</td>\n",
       "      <td>3</td>\n",
       "      <td>1</td>\n",
       "    </tr>\n",
       "    <tr>\n",
       "      <th>4</th>\n",
       "      <td>2018-09-20</td>\n",
       "      <td>00007d2de826758b65a93dd24ce629ed66842531df6699...</td>\n",
       "      <td>685687004</td>\n",
       "      <td>0.016932</td>\n",
       "      <td>2</td>\n",
       "      <td>4</td>\n",
       "      <td>1</td>\n",
       "    </tr>\n",
       "    <tr>\n",
       "      <th>...</th>\n",
       "      <td>...</td>\n",
       "      <td>...</td>\n",
       "      <td>...</td>\n",
       "      <td>...</td>\n",
       "      <td>...</td>\n",
       "      <td>...</td>\n",
       "      <td>...</td>\n",
       "    </tr>\n",
       "    <tr>\n",
       "      <th>31788319</th>\n",
       "      <td>2020-09-22</td>\n",
       "      <td>fff2282977442e327b45d8c89afde25617d00124d0f999...</td>\n",
       "      <td>929511001</td>\n",
       "      <td>0.059305</td>\n",
       "      <td>2</td>\n",
       "      <td>102734</td>\n",
       "      <td>212537</td>\n",
       "    </tr>\n",
       "    <tr>\n",
       "      <th>31788320</th>\n",
       "      <td>2020-09-22</td>\n",
       "      <td>fff2282977442e327b45d8c89afde25617d00124d0f999...</td>\n",
       "      <td>891322004</td>\n",
       "      <td>0.042356</td>\n",
       "      <td>2</td>\n",
       "      <td>97490</td>\n",
       "      <td>212537</td>\n",
       "    </tr>\n",
       "    <tr>\n",
       "      <th>31788321</th>\n",
       "      <td>2020-09-22</td>\n",
       "      <td>fff380805474b287b05cb2a7507b9a013482f7dd0bce0e...</td>\n",
       "      <td>918325001</td>\n",
       "      <td>0.043203</td>\n",
       "      <td>1</td>\n",
       "      <td>104185</td>\n",
       "      <td>1090369</td>\n",
       "    </tr>\n",
       "    <tr>\n",
       "      <th>31788322</th>\n",
       "      <td>2020-09-22</td>\n",
       "      <td>fff4d3a8b1f3b60af93e78c30a7cb4cf75edaf2590d3e5...</td>\n",
       "      <td>833459002</td>\n",
       "      <td>0.006763</td>\n",
       "      <td>1</td>\n",
       "      <td>70100</td>\n",
       "      <td>729233</td>\n",
       "    </tr>\n",
       "    <tr>\n",
       "      <th>31788323</th>\n",
       "      <td>2020-09-22</td>\n",
       "      <td>fffef3b6b73545df065b521e19f64bf6fe93bfd450ab20...</td>\n",
       "      <td>898573003</td>\n",
       "      <td>0.033881</td>\n",
       "      <td>2</td>\n",
       "      <td>102985</td>\n",
       "      <td>1025409</td>\n",
       "    </tr>\n",
       "  </tbody>\n",
       "</table>\n",
       "<p>31788324 rows × 7 columns</p>\n",
       "</div>"
      ],
      "text/plain": [
       "               t_dat                                        customer_id  \\\n",
       "0         2018-09-20  000058a12d5b43e67d225668fa1f8d618c13dc232df0ca...   \n",
       "1         2018-09-20  000058a12d5b43e67d225668fa1f8d618c13dc232df0ca...   \n",
       "2         2018-09-20  00007d2de826758b65a93dd24ce629ed66842531df6699...   \n",
       "3         2018-09-20  00007d2de826758b65a93dd24ce629ed66842531df6699...   \n",
       "4         2018-09-20  00007d2de826758b65a93dd24ce629ed66842531df6699...   \n",
       "...              ...                                                ...   \n",
       "31788319  2020-09-22  fff2282977442e327b45d8c89afde25617d00124d0f999...   \n",
       "31788320  2020-09-22  fff2282977442e327b45d8c89afde25617d00124d0f999...   \n",
       "31788321  2020-09-22  fff380805474b287b05cb2a7507b9a013482f7dd0bce0e...   \n",
       "31788322  2020-09-22  fff4d3a8b1f3b60af93e78c30a7cb4cf75edaf2590d3e5...   \n",
       "31788323  2020-09-22  fffef3b6b73545df065b521e19f64bf6fe93bfd450ab20...   \n",
       "\n",
       "          article_id     price  sales_channel_id  article_id_new  \\\n",
       "0          663713001  0.050831                 2               0   \n",
       "1          541518023  0.030492                 2               1   \n",
       "2          505221004  0.015237                 2               2   \n",
       "3          685687003  0.016932                 2               3   \n",
       "4          685687004  0.016932                 2               4   \n",
       "...              ...       ...               ...             ...   \n",
       "31788319   929511001  0.059305                 2          102734   \n",
       "31788320   891322004  0.042356                 2           97490   \n",
       "31788321   918325001  0.043203                 1          104185   \n",
       "31788322   833459002  0.006763                 1           70100   \n",
       "31788323   898573003  0.033881                 2          102985   \n",
       "\n",
       "          customer_id_new  \n",
       "0                       0  \n",
       "1                       0  \n",
       "2                       1  \n",
       "3                       1  \n",
       "4                       1  \n",
       "...                   ...  \n",
       "31788319           212537  \n",
       "31788320           212537  \n",
       "31788321          1090369  \n",
       "31788322           729233  \n",
       "31788323          1025409  \n",
       "\n",
       "[31788324 rows x 7 columns]"
      ]
     },
     "execution_count": 10,
     "metadata": {},
     "output_type": "execute_result"
    }
   ],
   "source": [
    "df_trans"
   ]
  },
  {
   "cell_type": "markdown",
   "id": "8d6f34f7",
   "metadata": {},
   "source": [
    "I splited the data to three parts. These are train, validation and test sets. I used last week as test set, the week before last week as validation set and the remaining part as train set. Then I used the validation set to optimize my hyperparameters. My validation set just contains one week before last week so my hyperparameters can maximize the last week."
   ]
  },
  {
   "cell_type": "code",
   "execution_count": 11,
   "id": "7d00348b",
   "metadata": {
    "scrolled": true
   },
   "outputs": [],
   "source": [
    "validation_split_idx = int(df_trans.shape[0]*0.98)\n",
    "test_split_idx = int(df_trans.shape[0]*0.99)"
   ]
  },
  {
   "cell_type": "code",
   "execution_count": 12,
   "id": "7270a2b2",
   "metadata": {},
   "outputs": [],
   "source": [
    "df_train = df_trans.loc[0:validation_split_idx]\n",
    "df_val = df_trans.loc[validation_split_idx : test_split_idx] \n",
    "df_test = df_trans.loc[test_split_idx:]"
   ]
  },
  {
   "cell_type": "code",
   "execution_count": 13,
   "id": "41a2c675",
   "metadata": {
    "scrolled": true
   },
   "outputs": [
    {
     "data": {
      "text/html": [
       "<div>\n",
       "<style scoped>\n",
       "    .dataframe tbody tr th:only-of-type {\n",
       "        vertical-align: middle;\n",
       "    }\n",
       "\n",
       "    .dataframe tbody tr th {\n",
       "        vertical-align: top;\n",
       "    }\n",
       "\n",
       "    .dataframe thead th {\n",
       "        text-align: right;\n",
       "    }\n",
       "</style>\n",
       "<table border=\"1\" class=\"dataframe\">\n",
       "  <thead>\n",
       "    <tr style=\"text-align: right;\">\n",
       "      <th></th>\n",
       "      <th>t_dat</th>\n",
       "      <th>customer_id</th>\n",
       "      <th>article_id</th>\n",
       "      <th>price</th>\n",
       "      <th>sales_channel_id</th>\n",
       "      <th>article_id_new</th>\n",
       "      <th>customer_id_new</th>\n",
       "    </tr>\n",
       "  </thead>\n",
       "  <tbody>\n",
       "    <tr>\n",
       "      <th>0</th>\n",
       "      <td>2018-09-20</td>\n",
       "      <td>000058a12d5b43e67d225668fa1f8d618c13dc232df0ca...</td>\n",
       "      <td>663713001</td>\n",
       "      <td>0.050831</td>\n",
       "      <td>2</td>\n",
       "      <td>0</td>\n",
       "      <td>0</td>\n",
       "    </tr>\n",
       "    <tr>\n",
       "      <th>1</th>\n",
       "      <td>2018-09-20</td>\n",
       "      <td>000058a12d5b43e67d225668fa1f8d618c13dc232df0ca...</td>\n",
       "      <td>541518023</td>\n",
       "      <td>0.030492</td>\n",
       "      <td>2</td>\n",
       "      <td>1</td>\n",
       "      <td>0</td>\n",
       "    </tr>\n",
       "    <tr>\n",
       "      <th>2</th>\n",
       "      <td>2018-09-20</td>\n",
       "      <td>00007d2de826758b65a93dd24ce629ed66842531df6699...</td>\n",
       "      <td>505221004</td>\n",
       "      <td>0.015237</td>\n",
       "      <td>2</td>\n",
       "      <td>2</td>\n",
       "      <td>1</td>\n",
       "    </tr>\n",
       "    <tr>\n",
       "      <th>3</th>\n",
       "      <td>2018-09-20</td>\n",
       "      <td>00007d2de826758b65a93dd24ce629ed66842531df6699...</td>\n",
       "      <td>685687003</td>\n",
       "      <td>0.016932</td>\n",
       "      <td>2</td>\n",
       "      <td>3</td>\n",
       "      <td>1</td>\n",
       "    </tr>\n",
       "    <tr>\n",
       "      <th>4</th>\n",
       "      <td>2018-09-20</td>\n",
       "      <td>00007d2de826758b65a93dd24ce629ed66842531df6699...</td>\n",
       "      <td>685687004</td>\n",
       "      <td>0.016932</td>\n",
       "      <td>2</td>\n",
       "      <td>4</td>\n",
       "      <td>1</td>\n",
       "    </tr>\n",
       "    <tr>\n",
       "      <th>...</th>\n",
       "      <td>...</td>\n",
       "      <td>...</td>\n",
       "      <td>...</td>\n",
       "      <td>...</td>\n",
       "      <td>...</td>\n",
       "      <td>...</td>\n",
       "      <td>...</td>\n",
       "    </tr>\n",
       "    <tr>\n",
       "      <th>31152553</th>\n",
       "      <td>2020-09-05</td>\n",
       "      <td>4499cb5dd11de1dbb5d5c9ed323714c335efd1eb9d4c57...</td>\n",
       "      <td>568601023</td>\n",
       "      <td>0.050831</td>\n",
       "      <td>1</td>\n",
       "      <td>36759</td>\n",
       "      <td>648670</td>\n",
       "    </tr>\n",
       "    <tr>\n",
       "      <th>31152554</th>\n",
       "      <td>2020-09-05</td>\n",
       "      <td>4499cb5dd11de1dbb5d5c9ed323714c335efd1eb9d4c57...</td>\n",
       "      <td>652730004</td>\n",
       "      <td>0.050831</td>\n",
       "      <td>1</td>\n",
       "      <td>39564</td>\n",
       "      <td>648670</td>\n",
       "    </tr>\n",
       "    <tr>\n",
       "      <th>31152555</th>\n",
       "      <td>2020-09-05</td>\n",
       "      <td>4499cb5dd11de1dbb5d5c9ed323714c335efd1eb9d4c57...</td>\n",
       "      <td>686564013</td>\n",
       "      <td>0.033881</td>\n",
       "      <td>1</td>\n",
       "      <td>60922</td>\n",
       "      <td>648670</td>\n",
       "    </tr>\n",
       "    <tr>\n",
       "      <th>31152556</th>\n",
       "      <td>2020-09-05</td>\n",
       "      <td>449cea12e175cc607c95d48c622b6139af43d243dec493...</td>\n",
       "      <td>706016019</td>\n",
       "      <td>0.033881</td>\n",
       "      <td>1</td>\n",
       "      <td>66265</td>\n",
       "      <td>109638</td>\n",
       "    </tr>\n",
       "    <tr>\n",
       "      <th>31152557</th>\n",
       "      <td>2020-09-05</td>\n",
       "      <td>449cea12e175cc607c95d48c622b6139af43d243dec493...</td>\n",
       "      <td>516000090</td>\n",
       "      <td>0.016932</td>\n",
       "      <td>1</td>\n",
       "      <td>67828</td>\n",
       "      <td>109638</td>\n",
       "    </tr>\n",
       "  </tbody>\n",
       "</table>\n",
       "<p>31152558 rows × 7 columns</p>\n",
       "</div>"
      ],
      "text/plain": [
       "               t_dat                                        customer_id  \\\n",
       "0         2018-09-20  000058a12d5b43e67d225668fa1f8d618c13dc232df0ca...   \n",
       "1         2018-09-20  000058a12d5b43e67d225668fa1f8d618c13dc232df0ca...   \n",
       "2         2018-09-20  00007d2de826758b65a93dd24ce629ed66842531df6699...   \n",
       "3         2018-09-20  00007d2de826758b65a93dd24ce629ed66842531df6699...   \n",
       "4         2018-09-20  00007d2de826758b65a93dd24ce629ed66842531df6699...   \n",
       "...              ...                                                ...   \n",
       "31152553  2020-09-05  4499cb5dd11de1dbb5d5c9ed323714c335efd1eb9d4c57...   \n",
       "31152554  2020-09-05  4499cb5dd11de1dbb5d5c9ed323714c335efd1eb9d4c57...   \n",
       "31152555  2020-09-05  4499cb5dd11de1dbb5d5c9ed323714c335efd1eb9d4c57...   \n",
       "31152556  2020-09-05  449cea12e175cc607c95d48c622b6139af43d243dec493...   \n",
       "31152557  2020-09-05  449cea12e175cc607c95d48c622b6139af43d243dec493...   \n",
       "\n",
       "          article_id     price  sales_channel_id  article_id_new  \\\n",
       "0          663713001  0.050831                 2               0   \n",
       "1          541518023  0.030492                 2               1   \n",
       "2          505221004  0.015237                 2               2   \n",
       "3          685687003  0.016932                 2               3   \n",
       "4          685687004  0.016932                 2               4   \n",
       "...              ...       ...               ...             ...   \n",
       "31152553   568601023  0.050831                 1           36759   \n",
       "31152554   652730004  0.050831                 1           39564   \n",
       "31152555   686564013  0.033881                 1           60922   \n",
       "31152556   706016019  0.033881                 1           66265   \n",
       "31152557   516000090  0.016932                 1           67828   \n",
       "\n",
       "          customer_id_new  \n",
       "0                       0  \n",
       "1                       0  \n",
       "2                       1  \n",
       "3                       1  \n",
       "4                       1  \n",
       "...                   ...  \n",
       "31152553           648670  \n",
       "31152554           648670  \n",
       "31152555           648670  \n",
       "31152556           109638  \n",
       "31152557           109638  \n",
       "\n",
       "[31152558 rows x 7 columns]"
      ]
     },
     "execution_count": 13,
     "metadata": {},
     "output_type": "execute_result"
    }
   ],
   "source": [
    "df_train"
   ]
  },
  {
   "cell_type": "code",
   "execution_count": 14,
   "id": "d29766c1",
   "metadata": {},
   "outputs": [
    {
     "name": "stdout",
     "output_type": "stream",
     "text": [
      "1362281\n",
      "104547\n"
     ]
    }
   ],
   "source": [
    "user_unique = df_trans['customer_id'].nunique()\n",
    "item_unique = df_trans['article_id'].nunique()\n",
    "print(user_unique)\n",
    "print(item_unique)"
   ]
  },
  {
   "cell_type": "markdown",
   "id": "2dbb4095",
   "metadata": {},
   "source": [
    "While creating the R matrix, I decided to make an explicit matrix. I used the amount of times a user bought product as rating. "
   ]
  },
  {
   "cell_type": "code",
   "execution_count": 15,
   "id": "f5476345",
   "metadata": {},
   "outputs": [],
   "source": [
    "df_train_new = df_train.groupby(['customer_id_new', 'article_id_new']).size()\n",
    "df_val_new = df_val.groupby(['customer_id_new', 'article_id_new']).size()\n",
    "df_test_new = df_test.groupby(['customer_id_new', 'article_id_new']).size()"
   ]
  },
  {
   "cell_type": "code",
   "execution_count": 16,
   "id": "0103e283",
   "metadata": {
    "scrolled": true
   },
   "outputs": [
    {
     "data": {
      "text/plain": [
       "customer_id_new  article_id_new\n",
       "0                0                 2\n",
       "                 1                 1\n",
       "                 1702              1\n",
       "                 2880              2\n",
       "                 39611             1\n",
       "                                  ..\n",
       "1348225          95726             1\n",
       "                 99938             1\n",
       "1348226          78905             1\n",
       "                 99537             1\n",
       "                 101549            1\n",
       "Length: 26760915, dtype: int64"
      ]
     },
     "execution_count": 16,
     "metadata": {},
     "output_type": "execute_result"
    }
   ],
   "source": [
    "df_train_new"
   ]
  },
  {
   "cell_type": "code",
   "execution_count": 17,
   "id": "18f901b5",
   "metadata": {},
   "outputs": [
    {
     "data": {
      "text/plain": [
       "(26760915,)"
      ]
     },
     "execution_count": 17,
     "metadata": {},
     "output_type": "execute_result"
    }
   ],
   "source": [
    "df_train_new.shape"
   ]
  },
  {
   "cell_type": "markdown",
   "id": "f6102be4",
   "metadata": {},
   "source": [
    "Training and Hyperparameter Optimization for d and lambda. \n",
    "Data is very large so I can't create R matrix because of memory issues. I solved this problem with just using indexes to do gradient descent."
   ]
  },
  {
   "cell_type": "code",
   "execution_count": 18,
   "id": "8bacef44",
   "metadata": {},
   "outputs": [
    {
     "name": "stderr",
     "output_type": "stream",
     "text": [
      "Total Square Error: 46401948.87:  33%|███▎      | 1/3 [05:12<10:24, 312.11s/it]"
     ]
    },
    {
     "name": "stdout",
     "output_type": "stream",
     "text": [
      "46401948.867380254\n"
     ]
    },
    {
     "name": "stderr",
     "output_type": "stream",
     "text": [
      "Total Square Error: 29198728.66:  67%|██████▋   | 2/3 [10:23<05:11, 311.46s/it]"
     ]
    },
    {
     "name": "stdout",
     "output_type": "stream",
     "text": [
      "29198728.663781315\n"
     ]
    },
    {
     "name": "stderr",
     "output_type": "stream",
     "text": [
      "Total Square Error: 23069936.70: 100%|██████████| 3/3 [15:45<00:00, 315.29s/it]\n"
     ]
    },
    {
     "name": "stdout",
     "output_type": "stream",
     "text": [
      "23069936.704680163\n",
      "244681.95240007676\n"
     ]
    },
    {
     "name": "stderr",
     "output_type": "stream",
     "text": [
      "Total Square Error: 2820259619.66:  33%|███▎      | 1/3 [05:21<10:43, 321.92s/it]"
     ]
    },
    {
     "name": "stdout",
     "output_type": "stream",
     "text": [
      "2820259619.66034\n"
     ]
    },
    {
     "name": "stderr",
     "output_type": "stream",
     "text": [
      "Total Square Error: 587557703.02:  67%|██████▋   | 2/3 [10:40<05:19, 319.89s/it] "
     ]
    },
    {
     "name": "stdout",
     "output_type": "stream",
     "text": [
      "587557703.0155038\n"
     ]
    },
    {
     "name": "stderr",
     "output_type": "stream",
     "text": [
      "Total Square Error: 336106983.15: 100%|██████████| 3/3 [16:00<00:00, 320.10s/it]\n"
     ]
    },
    {
     "name": "stdout",
     "output_type": "stream",
     "text": [
      "336106983.1487722\n"
     ]
    },
    {
     "name": "stderr",
     "output_type": "stream",
     "text": [
      "  0%|          | 0/3 [00:00<?, ?it/s]"
     ]
    },
    {
     "name": "stdout",
     "output_type": "stream",
     "text": [
      "1467772.8596714956\n"
     ]
    },
    {
     "name": "stderr",
     "output_type": "stream",
     "text": [
      "Total Square Error: 46226137.64:  33%|███▎      | 1/3 [05:01<10:03, 301.82s/it]"
     ]
    },
    {
     "name": "stdout",
     "output_type": "stream",
     "text": [
      "46226137.63607202\n"
     ]
    },
    {
     "name": "stderr",
     "output_type": "stream",
     "text": [
      "Total Square Error: 29043386.64:  67%|██████▋   | 2/3 [10:14<05:08, 308.43s/it]"
     ]
    },
    {
     "name": "stdout",
     "output_type": "stream",
     "text": [
      "29043386.642861992\n"
     ]
    },
    {
     "name": "stderr",
     "output_type": "stream",
     "text": [
      "Total Square Error: 22956369.62: 100%|██████████| 3/3 [15:24<00:00, 308.14s/it]\n"
     ]
    },
    {
     "name": "stdout",
     "output_type": "stream",
     "text": [
      "22956369.61899363\n",
      "240360.38359725985\n"
     ]
    },
    {
     "name": "stderr",
     "output_type": "stream",
     "text": [
      "Total Square Error: 2819411660.71:  33%|███▎      | 1/3 [05:35<11:11, 335.83s/it]"
     ]
    },
    {
     "name": "stdout",
     "output_type": "stream",
     "text": [
      "2819411660.705385\n"
     ]
    },
    {
     "name": "stderr",
     "output_type": "stream",
     "text": [
      "Total Square Error: 587293545.50:  67%|██████▋   | 2/3 [11:11<05:35, 335.97s/it] "
     ]
    },
    {
     "name": "stdout",
     "output_type": "stream",
     "text": [
      "587293545.4957694\n"
     ]
    },
    {
     "name": "stderr",
     "output_type": "stream",
     "text": [
      "Total Square Error: 335861488.06: 100%|██████████| 3/3 [17:03<00:00, 341.14s/it]\n"
     ]
    },
    {
     "name": "stdout",
     "output_type": "stream",
     "text": [
      "335861488.05549824\n",
      "1461782.7981948738\n",
      "10 0.01 [[0.64326829 0.40271398 0.04520944 ... 0.9250417  0.79031285 0.43488299]\n",
      " [0.34142406 0.15596634 0.95008407 ... 0.07280403 0.53470354 0.24931003]\n",
      " [0.18980714 0.03301259 0.4322202  ... 0.54523959 0.17202496 0.39697803]\n",
      " ...\n",
      " [0.25872344 0.43587168 0.61243058 ... 0.2182013  0.62709237 0.18138399]\n",
      " [0.23275815 0.32301927 0.62539107 ... 0.74653442 0.36178897 0.97378702]\n",
      " [0.73986238 0.49715387 0.12015348 ... 0.21268979 0.92144369 0.685809  ]] [[ 0.53875881  0.52841681  0.39493553 ...  0.69217041  0.65142177\n",
      "   0.70800937]\n",
      " [ 0.66414812  0.07942593  0.10025508 ...  0.4631277   0.56253096\n",
      "   0.27546544]\n",
      " [ 0.08703464  0.05049272  0.64596121 ...  0.87288222  0.71641132\n",
      "   0.52669859]\n",
      " ...\n",
      " [-0.02448241  0.04524636  0.4170202  ...  0.72719688  0.1553473\n",
      "   0.64206197]\n",
      " [ 0.68816949  0.46877444  0.90228322 ...  0.00184341  0.59628944\n",
      "   0.579593  ]\n",
      " [ 0.17912942  0.35012688  0.35696204 ...  0.13797778  0.6622379\n",
      "   0.01844119]]\n"
     ]
    }
   ],
   "source": [
    "total_val_e = 0\n",
    "best_total_e = float('inf')\n",
    "best_lamb = 0.1\n",
    "best_d = 10\n",
    "alpha = 0.0001   # Learning rate\n",
    "\n",
    "lambs = [0.001,0.01,0.1]\n",
    "d_list = [10,100,1000]\n",
    "\n",
    "for lamb in lambs:\n",
    "    for d_ in d_list:\n",
    "\n",
    "        U = np.random.rand(user_unique,d_)\n",
    "        V = np.random.rand(d_,item_unique)\n",
    "\n",
    "        with trange(3) as epochs:\n",
    "            for _ in epochs:\n",
    "                total_e = 0   \n",
    "                for k,sample in enumerate(df_train_new.iteritems()):\n",
    "                    i = sample[0][0]\n",
    "                    j = sample[0][1]\n",
    "\n",
    "                    y_pred = np.dot(U[i, :], V[:, j])\n",
    "                    e = sample[1] - y_pred\n",
    "\n",
    "                    U[i, :] += (2 * e * V[:, j] - 2 * lamb * U[i, :]) * alpha\n",
    "                    V[:, j] += (2 * e * U[i, :] - 2 * lamb * V[:, j]) * alpha\n",
    "\n",
    "                    total_e += e ** 2\n",
    "\n",
    "                epochs.set_description(f'Total Square Error: {total_e:.2f}')\n",
    "                print(total_e)\n",
    "        \n",
    "        total_val_e = 0\n",
    "        for k,sample in enumerate(df_val_new.iteritems()):\n",
    "            i = sample[0][0]\n",
    "            j = sample[0][1]\n",
    "\n",
    "            y_pred = np.dot(U[i, :], V[:, j])\n",
    "            e = np.abs(sample[1] - y_pred)\n",
    "\n",
    "            total_val_e += e\n",
    "\n",
    "        print(total_val_e)\n",
    "        if total_val_e < best_total_e:\n",
    "            best_d = d_\n",
    "            best_lamb = lamb\n",
    "            best_U = U\n",
    "            best_V = V\n",
    "            best_total_e = total_val_e\n",
    "\n",
    "print(best_d, best_lamb, best_U, best_V)"
   ]
  },
  {
   "cell_type": "code",
   "execution_count": 19,
   "id": "96d3fa21",
   "metadata": {},
   "outputs": [
    {
     "data": {
      "text/plain": [
       "10"
      ]
     },
     "execution_count": 19,
     "metadata": {},
     "output_type": "execute_result"
    }
   ],
   "source": [
    "best_d"
   ]
  },
  {
   "cell_type": "code",
   "execution_count": 20,
   "id": "a783b6b5",
   "metadata": {},
   "outputs": [
    {
     "data": {
      "text/plain": [
       "0.01"
      ]
     },
     "execution_count": 20,
     "metadata": {},
     "output_type": "execute_result"
    }
   ],
   "source": [
    "best_lamb"
   ]
  },
  {
   "cell_type": "markdown",
   "id": "48ff2710",
   "metadata": {},
   "source": [
    "MAE for test set"
   ]
  },
  {
   "cell_type": "code",
   "execution_count": 21,
   "id": "9547bab6",
   "metadata": {},
   "outputs": [
    {
     "name": "stdout",
     "output_type": "stream",
     "text": [
      "242476\n"
     ]
    }
   ],
   "source": [
    "total_test_e = 0\n",
    "\n",
    "for k,sample in enumerate(df_test_new.iteritems()):\n",
    "    i = sample[0][0]\n",
    "    j = sample[0][1]\n",
    "\n",
    "    y_pred = np.dot(best_U[i, :], best_V[:, j])\n",
    "    y_pred_rounded = round(y_pred)\n",
    "    e = np.abs(sample[1] - y_pred_rounded)\n",
    "\n",
    "    total_test_e += e\n",
    "    \n",
    "print(total_test_e)"
   ]
  },
  {
   "cell_type": "code",
   "execution_count": 22,
   "id": "a6d12fd0",
   "metadata": {},
   "outputs": [
    {
     "data": {
      "text/plain": [
       "customer_id_new  article_id_new\n",
       "0                100206            1\n",
       "3                100494            1\n",
       "6                98365             1\n",
       "33               1408              2\n",
       "46               99220             1\n",
       "                                  ..\n",
       "1362278          104514            1\n",
       "1362279          99158             2\n",
       "1362280          68956             1\n",
       "                 102215            1\n",
       "                 102661            1\n",
       "Length: 281578, dtype: int64"
      ]
     },
     "execution_count": 22,
     "metadata": {},
     "output_type": "execute_result"
    }
   ],
   "source": [
    "df_test_new"
   ]
  },
  {
   "cell_type": "code",
   "execution_count": 23,
   "id": "e98ef131",
   "metadata": {},
   "outputs": [
    {
     "data": {
      "text/plain": [
       "1362281"
      ]
     },
     "execution_count": 23,
     "metadata": {},
     "output_type": "execute_result"
    }
   ],
   "source": [
    "user_unique"
   ]
  },
  {
   "cell_type": "code",
   "execution_count": 24,
   "id": "59e2ca5d",
   "metadata": {},
   "outputs": [
    {
     "data": {
      "text/plain": [
       "104547"
      ]
     },
     "execution_count": 24,
     "metadata": {},
     "output_type": "execute_result"
    }
   ],
   "source": [
    "item_unique"
   ]
  },
  {
   "cell_type": "markdown",
   "id": "ce4b55b1",
   "metadata": {},
   "source": [
    "Creating top 5 article recommendations for users"
   ]
  },
  {
   "cell_type": "code",
   "execution_count": 25,
   "id": "fefc9f59",
   "metadata": {},
   "outputs": [],
   "source": [
    "%%capture\n",
    "recommendations = []\n",
    "for i in range(user_unique):\n",
    "    max_five = []    \n",
    "    y_pred = np.dot(best_U[i, :], best_V[:])\n",
    "    \n",
    "    for k in range(5):\n",
    "        max_v = y_pred.max()\n",
    "        max_idx = y_pred.argmax()\n",
    "        max_five.append((max_v,max_idx))\n",
    "        y_pred[max_idx] = -1\n",
    "    \n",
    "    recommendations.append(max_five)\n",
    "    if i % 1000 == 0:       \n",
    "        print(\"user is done: \", i, \"/\", user_unique)"
   ]
  },
  {
   "cell_type": "markdown",
   "id": "64d7fcf2",
   "metadata": {},
   "source": [
    "Top 5 recommendations for first 10 users"
   ]
  },
  {
   "cell_type": "code",
   "execution_count": 29,
   "id": "8574d15c",
   "metadata": {},
   "outputs": [
    {
     "data": {
      "text/plain": [
       "[[(5.242206881307357, 79326),\n",
       "  (5.152372775717142, 29294),\n",
       "  (5.097801556848117, 24582),\n",
       "  (4.9903427080828955, 62177),\n",
       "  (4.964608796825337, 65408)],\n",
       " [(4.141120415414361, 36120),\n",
       "  (4.114133618479373, 29294),\n",
       "  (4.103297864718653, 85905),\n",
       "  (4.088223757701147, 83797),\n",
       "  (4.072908296370909, 23022)],\n",
       " [(3.104204652289081, 84238),\n",
       "  (3.0460712763539797, 86502),\n",
       "  (2.9929706140681755, 57352),\n",
       "  (2.984171131127165, 102826),\n",
       "  (2.976859166956887, 53375)],\n",
       " [(4.168666063697494, 17456),\n",
       "  (4.126653467649637, 102826),\n",
       "  (4.122106620427129, 29294),\n",
       "  (4.113132943547955, 62177),\n",
       "  (4.094213109433779, 53280)],\n",
       " [(3.124232428007579, 57243),\n",
       "  (3.0956427918353584, 32686),\n",
       "  (3.0841606576119642, 53440),\n",
       "  (3.0815206549452276, 29294),\n",
       "  (3.0765748774080435, 90078)],\n",
       " [(3.694214061400063, 29294),\n",
       "  (3.6299730104550125, 21401),\n",
       "  (3.603725134960357, 102826),\n",
       "  (3.600897355254278, 103279),\n",
       "  (3.600242824053761, 77955)],\n",
       " [(4.347364498798701, 84238),\n",
       "  (4.234875211222524, 84133),\n",
       "  (4.225954592566566, 28035),\n",
       "  (4.221171560447777, 103296),\n",
       "  (4.204882939167955, 85033)],\n",
       " [(4.939668663406702, 29294),\n",
       "  (4.773581764381536, 79326),\n",
       "  (4.7096726686705175, 23022),\n",
       "  (4.678468272268019, 19567),\n",
       "  (4.678330437823077, 102826)],\n",
       " [(5.503562578914176, 29294),\n",
       "  (5.473934551992803, 94829),\n",
       "  (5.387776053447034, 17456),\n",
       "  (5.374637371153855, 102220),\n",
       "  (5.353007774714458, 54352)],\n",
       " [(3.4681927647183133, 101576),\n",
       "  (3.4196815497747393, 29294),\n",
       "  (3.4061131549834043, 104122),\n",
       "  (3.38659857829116, 46714),\n",
       "  (3.3846632857352223, 63299)]]"
      ]
     },
     "execution_count": 29,
     "metadata": {},
     "output_type": "execute_result"
    }
   ],
   "source": [
    "recommendations[0:10]"
   ]
  }
 ],
 "metadata": {
  "kernelspec": {
   "display_name": "Python 3",
   "language": "python",
   "name": "python3"
  },
  "language_info": {
   "codemirror_mode": {
    "name": "ipython",
    "version": 3
   },
   "file_extension": ".py",
   "mimetype": "text/x-python",
   "name": "python",
   "nbconvert_exporter": "python",
   "pygments_lexer": "ipython3",
   "version": "3.8.8"
  }
 },
 "nbformat": 4,
 "nbformat_minor": 5
}
